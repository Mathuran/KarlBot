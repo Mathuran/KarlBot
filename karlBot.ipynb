{
 "cells": [
  {
   "cell_type": "code",
   "execution_count": 2,
   "metadata": {},
   "outputs": [
    {
     "name": "stdout",
     "output_type": "stream",
     "text": [
      "{'clientId': 'hcmuhyiMcXuPzUDvWgIrukuJ', 'secret': '2BRqrp92ezh5rGzmX1-+3ovEbDt1S10fKNL8GJ.HC7avsx.dAtoe_vbHUwmsMtw,S1OJTDYGtS0.j-mhys8x+qZt-InNrmZCFhP7RHFN51zqi-jlJRut2j9tptnd72OC', 'token': 'AstraCS:hcmuhyiMcXuPzUDvWgIrukuJ:307590ad8309ca349b99632d92380169a7fb73c7624dc5d207637198941bf0f6'}\n"
     ]
    }
   ],
   "source": [
    "from const import CHATGPT_APIKEY, VECTOR_DB_TOKEN, VECTOR_DB_KEYSPACE, VECTOR_DB_SCB\n",
    "import os\n",
    "import openai\n",
    "from langchain.vectorstores.cassandra import  Cassandra\n",
    "from langchain.indexes.vectorstore import \n",
    "\n",
    "\n",
    "print(VECTOR_DB_TOKEN)"
   ]
  },
  {
   "cell_type": "code",
   "execution_count": null,
   "metadata": {},
   "outputs": [],
   "source": [
    "\n",
    "\n",
    "\n",
    "print(\"KarlBot\")\n",
    "\n",
    "openai.api_key = CHATGPT_APIKEY\n",
    "\n",
    "response = openai.Embedding.create(\n",
    "    input=\"The food was delicious\",\n",
    "    model=\"text-embedding-ada-002\"\n",
    ")\n",
    "embeddings = response['data'][0]['embedding']\n"
   ]
  },
  {
   "cell_type": "code",
   "execution_count": null,
   "metadata": {},
   "outputs": [],
   "source": [
    "print(response)"
   ]
  }
 ],
 "metadata": {
  "kernelspec": {
   "display_name": "Python 3",
   "language": "python",
   "name": "python3"
  },
  "language_info": {
   "codemirror_mode": {
    "name": "ipython",
    "version": 3
   },
   "file_extension": ".py",
   "mimetype": "text/x-python",
   "name": "python",
   "nbconvert_exporter": "python",
   "pygments_lexer": "ipython3",
   "version": "3.11.4"
  }
 },
 "nbformat": 4,
 "nbformat_minor": 2
}
