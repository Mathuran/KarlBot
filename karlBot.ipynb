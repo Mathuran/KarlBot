{
 "cells": [
  {
   "cell_type": "code",
   "execution_count": 1,
   "metadata": {},
   "outputs": [
    {
     "name": "stdout",
     "output_type": "stream",
     "text": [
      "Hello\n",
      "{'clientId': 'hcmuhyiMcXuPzUDvWgIrukuJ', 'secret': '2BRqrp92ezh5rGzmX1-+3ovEbDt1S10fKNL8GJ.HC7avsx.dAtoe_vbHUwmsMtw,S1OJTDYGtS0.j-mhys8x+qZt-InNrmZCFhP7RHFN51zqi-jlJRut2j9tptnd72OC', 'token': 'AstraCS:hcmuhyiMcXuPzUDvWgIrukuJ:307590ad8309ca349b99632d92380169a7fb73c7624dc5d207637198941bf0f6'}\n"
     ]
    }
   ],
   "source": [
    "from const import CHATGPT_APIKEY, VECTOR_DB_TOKEN, VECTOR_DB_KEYSPACE, VECTOR_DB_SCB, VECTOR_DB_SCB_PATH\n",
    "import os\n",
    "import openai\n",
    "from langchain.vectorstores.cassandra import  Cassandra\n",
    "from langchain.indexes.vectorstore import VectorStoreIndexWrapper\n",
    "from langchain.llms import OpenAI\n",
    "from langchain.embeddings import OpenAIEmbeddings\n",
    "\n",
    "from cassandra.cluster import Cluster\n",
    "from cassandra.auth import PlainTextAuthProvider\n",
    "\n",
    "from datasets import load_dataset\n",
    "\n",
    "print(VECTOR_DB_TOKEN)"
   ]
  },
  {
   "cell_type": "code",
   "execution_count": null,
   "metadata": {},
   "outputs": [],
   "source": [
    "\n",
    "\n",
    "\n",
    "print(\"KarlBot\")\n",
    "\n",
    "openai.api_key = CHATGPT_APIKEY\n",
    "\n",
    "response = openai.Embedding.create(\n",
    "    input=\"The food was delicious\",\n",
    "    model=\"text-embedding-ada-002\"\n",
    ")\n",
    "embeddings = response['data'][0]['embedding']\n"
   ]
  },
  {
   "cell_type": "code",
   "execution_count": null,
   "metadata": {},
   "outputs": [],
   "source": [
    "print(response)"
   ]
  },
  {
   "cell_type": "code",
   "execution_count": 3,
   "metadata": {},
   "outputs": [
    {
     "name": "stdout",
     "output_type": "stream",
     "text": [
      "Loading data from huggingface\n"
     ]
    },
    {
     "data": {
      "application/vnd.jupyter.widget-view+json": {
       "model_id": "93059948408e4398a687d0bf7f69443b",
       "version_major": 2,
       "version_minor": 0
      },
      "text/plain": [
       "Downloading readme:   0%|          | 0.00/463 [00:00<?, ?B/s]"
      ]
     },
     "metadata": {},
     "output_type": "display_data"
    },
    {
     "data": {
      "application/vnd.jupyter.widget-view+json": {
       "model_id": "0707442e42bb478b8579550f40b1d078",
       "version_major": 2,
       "version_minor": 0
      },
      "text/plain": [
       "Downloading data files:   0%|          | 0/1 [00:00<?, ?it/s]"
      ]
     },
     "metadata": {},
     "output_type": "display_data"
    },
    {
     "data": {
      "application/vnd.jupyter.widget-view+json": {
       "model_id": "b27b81e32c96491a9b7997a1c9f620b6",
       "version_major": 2,
       "version_minor": 0
      },
      "text/plain": [
       "Downloading data:   0%|          | 0.00/23.5M [00:00<?, ?B/s]"
      ]
     },
     "metadata": {},
     "output_type": "display_data"
    },
    {
     "data": {
      "application/vnd.jupyter.widget-view+json": {
       "model_id": "ebcc7d037d2f486bb47338453b83aa28",
       "version_major": 2,
       "version_minor": 0
      },
      "text/plain": [
       "Extracting data files:   0%|          | 0/1 [00:00<?, ?it/s]"
      ]
     },
     "metadata": {},
     "output_type": "display_data"
    },
    {
     "data": {
      "application/vnd.jupyter.widget-view+json": {
       "model_id": "4dbeae8a21ca498788e7132dcbc83bbe",
       "version_major": 2,
       "version_minor": 0
      },
      "text/plain": [
       "Generating train split: 0 examples [00:00, ? examples/s]"
      ]
     },
     "metadata": {},
     "output_type": "display_data"
    },
    {
     "name": "stdout",
     "output_type": "stream",
     "text": [
      "Generating embeddings and storing in AstraDB\n",
      "Inserted 50 headlines. \n",
      "\n"
     ]
    }
   ],
   "source": [
    "\n",
    "auth_provider = PlainTextAuthProvider(VECTOR_DB_TOKEN[\"clientId\"], VECTOR_DB_TOKEN[\"secret\"])\n",
    "\n",
    "cloudConfig = {\n",
    "  \"secure_connect_bundle\": VECTOR_DB_SCB_PATH\n",
    "}\n",
    "cluster = Cluster(cloud=cloudConfig, auth_provider=auth_provider)\n",
    "astraSession = cluster.connect()\n",
    "\n",
    "\n",
    "llm = OpenAI(openai_api_key=CHATGPT_APIKEY)\n",
    "myEmbedding = OpenAIEmbeddings(openai_api_key=CHATGPT_APIKEY)\n",
    "\n",
    "cassandraVStore = Cassandra(\n",
    "  embedding=myEmbedding,\n",
    "  session=astraSession,\n",
    "  keyspace=VECTOR_DB_KEYSPACE,\n",
    "  table_name=\"qa_mini_demo\"\n",
    ")\n",
    "\n",
    "print(\"Loading data from huggingface\")\n",
    "myDataSet = load_dataset(\"Biddls/Onion_News\", split=\"train\")\n",
    "headlines = myDataSet[\"text\"][:50]\n",
    "\n",
    "print(\"Generating embeddings and storing in AstraDB\")\n",
    "cassandraVStore.add_texts(headlines)\n",
    "\n",
    "print(\"Inserted %i headlines. \\n\" % len(headlines))\n"
   ]
  },
  {
   "cell_type": "code",
   "execution_count": 6,
   "metadata": {},
   "outputs": [
    {
     "name": "stdout",
     "output_type": "stream",
     "text": [
      "QUESTION: \"What is love\"\n",
      "ANSWER: I don't know.\n",
      "\n",
      "DOCUMENTS BY RELEVANCE:\n",
      "  0.86481447911669410.4f ‘I Love That It Has Pockets,’ Says Woman Showing Off New Boy   \n",
      "  0.86265793547133620.4f Pope Francis Declares Nothing Wrong With Guy Giving Buddy Tu   \n",
      "  0.86243768669523520.4f Astronaut Buzz Aldrin Marries Longtime Hallucination Of Sexy   \n",
      "  0.8621599305607750.4f Man Buys Slice Of Honey-Roasted Ham For Attractive Woman At    \n",
      "QUESTION: \"Where will I be working in 10 years\"\n",
      "ANSWER: I don't know.\n",
      "\n",
      "DOCUMENTS BY RELEVANCE:\n",
      "  0.87630018299545620.4f Look What Happens When You Leave A McDonald’s Hamburger Out    \n",
      "  0.8750482441020020.4f Doomsday Clock Moves 10 Seconds Closer To Midnight #~# The D   \n",
      "  0.8733421689134960.4f ChatGPT Forced To Take Bar Exam Even Though Dream Was To Be    \n",
      "  0.87313859653617590.4f Google Employees React To Company Layoffs #~# After Google r   \n"
     ]
    }
   ],
   "source": [
    "vectorIndx = VectorStoreIndexWrapper(vectorstore=cassandraVStore)\n",
    "\n",
    "while True:\n",
    "  queryTxt = input(\"Enter your question (or type quit to exit): \")\n",
    "\n",
    "  if queryTxt.lower() == \"quit\":\n",
    "    break\n",
    "\n",
    "  print(\"QUESTION: \\\"%s\\\"\" % queryTxt)\n",
    "  ans = vectorIndx.query(queryTxt, llm=llm).strip()\n",
    "  print(f'ANSWER: {ans}\\n')\n",
    "  print(f'DOCUMENTS BY RELEVANCE:')\n",
    "  for doc, score in cassandraVStore.similarity_search_with_score(queryTxt, k=4):\n",
    "    print(f'  {score}0.4f {doc.page_content[:60]}   ')"
   ]
  }
 ],
 "metadata": {
  "kernelspec": {
   "display_name": "Python 3",
   "language": "python",
   "name": "python3"
  },
  "language_info": {
   "codemirror_mode": {
    "name": "ipython",
    "version": 3
   },
   "file_extension": ".py",
   "mimetype": "text/x-python",
   "name": "python",
   "nbconvert_exporter": "python",
   "pygments_lexer": "ipython3",
   "version": "3.11.4"
  }
 },
 "nbformat": 4,
 "nbformat_minor": 2
}
